{
 "cells": [
  {
   "cell_type": "code",
   "execution_count": 1,
   "id": "d25f2962",
   "metadata": {
    "_cell_guid": "b1076dfc-b9ad-4769-8c92-a6c4dae69d19",
    "_uuid": "8f2839f25d086af736a60e9eeb907d3b93b6e0e5",
    "execution": {
     "iopub.execute_input": "2024-10-26T14:11:29.148896Z",
     "iopub.status.busy": "2024-10-26T14:11:29.148295Z",
     "iopub.status.idle": "2024-10-26T14:11:30.030184Z",
     "shell.execute_reply": "2024-10-26T14:11:30.028888Z"
    },
    "papermill": {
     "duration": 0.892371,
     "end_time": "2024-10-26T14:11:30.033432",
     "exception": false,
     "start_time": "2024-10-26T14:11:29.141061",
     "status": "completed"
    },
    "tags": []
   },
   "outputs": [
    {
     "name": "stdout",
     "output_type": "stream",
     "text": [
      "/kaggle/input/loan-prediction/test_loan.csv\n",
      "/kaggle/input/loan-prediction/train_loan.csv\n"
     ]
    }
   ],
   "source": [
    "# This Python 3 environment comes with many helpful analytics libraries installed\n",
    "# It is defined by the kaggle/python Docker image: https://github.com/kaggle/docker-python\n",
    "# For example, here's several helpful packages to load\n",
    "\n",
    "import numpy as np # linear algebra\n",
    "import pandas as pd # data processing, CSV file I/O (e.g. pd.read_csv)\n",
    "\n",
    "# Input data files are available in the read-only \"../input/\" directory\n",
    "# For example, running this (by clicking run or pressing Shift+Enter) will list all files under the input directory\n",
    "\n",
    "import os\n",
    "for dirname, _, filenames in os.walk('/kaggle/input'):\n",
    "    for filename in filenames:\n",
    "        print(os.path.join(dirname, filename))\n",
    "\n",
    "# You can write up to 20GB to the current directory (/kaggle/working/) that gets preserved as output when you create a version using \"Save & Run All\" \n",
    "# You can also write temporary files to /kaggle/temp/, but they won't be saved outside of the current session"
   ]
  },
  {
   "cell_type": "code",
   "execution_count": 2,
   "id": "bea2557b",
   "metadata": {
    "execution": {
     "iopub.execute_input": "2024-10-26T14:11:30.045149Z",
     "iopub.status.busy": "2024-10-26T14:11:30.044533Z",
     "iopub.status.idle": "2024-10-26T14:12:16.854504Z",
     "shell.execute_reply": "2024-10-26T14:12:16.853278Z"
    },
    "papermill": {
     "duration": 46.819849,
     "end_time": "2024-10-26T14:12:16.858219",
     "exception": false,
     "start_time": "2024-10-26T14:11:30.038370",
     "status": "completed"
    },
    "tags": []
   },
   "outputs": [
    {
     "name": "stdout",
     "output_type": "stream",
     "text": [
      "Collecting pyspark==3.2\r\n",
      "  Downloading pyspark-3.2.0.tar.gz (281.3 MB)\r\n",
      "\u001b[2K     \u001b[90m━━━━━━━━━━━━━━━━━━━━━━━━━━━━━━━━━━━━━━━\u001b[0m \u001b[32m281.3/281.3 MB\u001b[0m \u001b[31m5.4 MB/s\u001b[0m eta \u001b[36m0:00:00\u001b[0m\r\n",
      "\u001b[?25h  Preparing metadata (setup.py) ... \u001b[?25l-\b \b\\\b \bdone\r\n",
      "\u001b[?25hCollecting py4j==0.10.9.2 (from pyspark==3.2)\r\n",
      "  Downloading py4j-0.10.9.2-py2.py3-none-any.whl.metadata (1.3 kB)\r\n",
      "Downloading py4j-0.10.9.2-py2.py3-none-any.whl (198 kB)\r\n",
      "\u001b[2K   \u001b[90m━━━━━━━━━━━━━━━━━━━━━━━━━━━━━━━━━━━━━━━━\u001b[0m \u001b[32m198.8/198.8 kB\u001b[0m \u001b[31m10.3 MB/s\u001b[0m eta \u001b[36m0:00:00\u001b[0m\r\n",
      "\u001b[?25hBuilding wheels for collected packages: pyspark\r\n",
      "  Building wheel for pyspark (setup.py) ... \u001b[?25l-\b \b\\\b \b|\b \bdone\r\n",
      "\u001b[?25h  Created wheel for pyspark: filename=pyspark-3.2.0-py2.py3-none-any.whl size=281805894 sha256=23e94a1f25ab91a3f5eff47111274ebdd41f94081af380e97f1af43f6b331b42\r\n",
      "  Stored in directory: /root/.cache/pip/wheels/32/97/d3/8b6d964c8700e4fbb561c71638a92ec55dac9be51eb5fea86d\r\n",
      "Successfully built pyspark\r\n",
      "Installing collected packages: py4j, pyspark\r\n",
      "  Attempting uninstall: py4j\r\n",
      "    Found existing installation: py4j 0.10.9.7\r\n",
      "    Uninstalling py4j-0.10.9.7:\r\n",
      "      Successfully uninstalled py4j-0.10.9.7\r\n",
      "Successfully installed py4j-0.10.9.2 pyspark-3.2.0\r\n"
     ]
    }
   ],
   "source": [
    "!pip install pyspark==3.2\n",
    "from pyspark.sql import SparkSession\n",
    "from pyspark.sql.functions import regexp_replace, col# Initialize Spark session"
   ]
  },
  {
   "cell_type": "code",
   "execution_count": 3,
   "id": "d2eaac90",
   "metadata": {
    "execution": {
     "iopub.execute_input": "2024-10-26T14:12:16.889170Z",
     "iopub.status.busy": "2024-10-26T14:12:16.887742Z",
     "iopub.status.idle": "2024-10-26T14:12:29.697662Z",
     "shell.execute_reply": "2024-10-26T14:12:29.695983Z"
    },
    "papermill": {
     "duration": 12.825634,
     "end_time": "2024-10-26T14:12:29.700890",
     "exception": false,
     "start_time": "2024-10-26T14:12:16.875256",
     "status": "completed"
    },
    "tags": []
   },
   "outputs": [
    {
     "name": "stderr",
     "output_type": "stream",
     "text": [
      "WARNING: An illegal reflective access operation has occurred\n",
      "WARNING: Illegal reflective access by org.apache.spark.unsafe.Platform (file:/opt/conda/lib/python3.10/site-packages/pyspark/jars/spark-unsafe_2.12-3.2.0.jar) to constructor java.nio.DirectByteBuffer(long,int)\n",
      "WARNING: Please consider reporting this to the maintainers of org.apache.spark.unsafe.Platform\n",
      "WARNING: Use --illegal-access=warn to enable warnings of further illegal reflective access operations\n",
      "WARNING: All illegal access operations will be denied in a future release\n",
      "Using Spark's default log4j profile: org/apache/spark/log4j-defaults.properties\n",
      "Setting default log level to \"WARN\".\n",
      "To adjust logging level use sc.setLogLevel(newLevel). For SparkR, use setLogLevel(newLevel).\n",
      "24/10/26 14:12:19 WARN NativeCodeLoader: Unable to load native-hadoop library for your platform... using builtin-java classes where applicable\n"
     ]
    },
    {
     "name": "stdout",
     "output_type": "stream",
     "text": [
      "Loading file: /kaggle/input/loan-prediction/test_loan.csv\n",
      "Loading file: /kaggle/input/loan-prediction/train_loan.csv\n",
      "Final DataFrame Schema:\n",
      "root\n",
      " |-- Gender: string (nullable = true)\n",
      " |-- Married: string (nullable = true)\n",
      " |-- Dependents: string (nullable = true)\n",
      " |-- Education: string (nullable = true)\n",
      " |-- Self_Employed: string (nullable = true)\n",
      " |-- ApplicantIncome: integer (nullable = true)\n",
      " |-- CoapplicantIncome: double (nullable = true)\n",
      " |-- LoanAmount: integer (nullable = true)\n",
      " |-- Loan_Amount_Term: integer (nullable = true)\n",
      " |-- Credit_History: integer (nullable = true)\n",
      " |-- Property_Area: string (nullable = true)\n",
      " |-- Loan_Status: string (nullable = true)\n",
      "\n"
     ]
    }
   ],
   "source": [
    "from pyspark.sql import SparkSession\n",
    "from pyspark.sql.types import StructType, StructField, StringType, IntegerType, FloatType\n",
    "from pyspark.sql import functions as F\n",
    "import glob\n",
    "\n",
    "# Initialize Spark Session\n",
    "spark = SparkSession.builder.appName(\"LoanPrediction\").getOrCreate()\n",
    "\n",
    "# Define the expected schema with correct column names and data types\n",
    "schema = StructType([\n",
    "    StructField(\"Gender\", StringType(), True),\n",
    "    StructField(\"Married\", StringType(), True),\n",
    "    StructField(\"Dependents\", StringType(), True),\n",
    "    StructField(\"Education\", StringType(), True),\n",
    "    StructField(\"Self_Employed\", StringType(), True),\n",
    "    StructField(\"ApplicantIncome\", IntegerType(), True),\n",
    "    StructField(\"CoapplicantIncome\", FloatType(), True),\n",
    "    StructField(\"LoanAmount\", FloatType(), True),\n",
    "    StructField(\"Loan_Amount_Term\", FloatType(), True),\n",
    "    StructField(\"Credit_History\", FloatType(), True),\n",
    "    StructField(\"Property_Area\", StringType(), True),\n",
    "    StructField(\"Loan_Status\", StringType(), True)\n",
    "])\n",
    "\n",
    "# Define the expected column names as a list\n",
    "expected_columns = [field.name for field in schema]\n",
    "\n",
    "# Collect all file paths to load\n",
    "file_paths = glob.glob(\"/kaggle/input/loan-prediction/*.csv\")\n",
    "\n",
    "# Placeholder for DataFrames\n",
    "dfs = []\n",
    "\n",
    "# Load each file individually without schema enforcement, then align columns\n",
    "for file_path in file_paths:\n",
    "    print(f\"Loading file: {file_path}\")\n",
    "    \n",
    "    # Load file without enforcing schema\n",
    "    df = spark.read.csv(file_path, header=True, inferSchema=True)\n",
    "    \n",
    "    # Check for missing columns and add them with null values if necessary\n",
    "    for col_name in expected_columns:\n",
    "        if col_name not in df.columns:\n",
    "            df = df.withColumn(col_name, F.lit(None))\n",
    "    \n",
    "    # Reorder columns to match the expected schema\n",
    "    df = df.select(expected_columns)\n",
    "    \n",
    "    # Append to the list of DataFrames\n",
    "    dfs.append(df)\n",
    "\n",
    "# Combine all DataFrames into a single DataFrame by aligning column names\n",
    "df = dfs[0]\n",
    "for next_df in dfs[1:]:\n",
    "    df = df.unionByName(next_df)\n",
    "\n",
    "# Verify the final schema\n",
    "print(\"Final DataFrame Schema:\")\n",
    "df.printSchema()\n",
    "\n"
   ]
  },
  {
   "cell_type": "code",
   "execution_count": 4,
   "id": "618892d0",
   "metadata": {
    "execution": {
     "iopub.execute_input": "2024-10-26T14:12:29.727662Z",
     "iopub.status.busy": "2024-10-26T14:12:29.727208Z",
     "iopub.status.idle": "2024-10-26T14:12:31.099223Z",
     "shell.execute_reply": "2024-10-26T14:12:31.097541Z"
    },
    "papermill": {
     "duration": 1.389833,
     "end_time": "2024-10-26T14:12:31.102725",
     "exception": false,
     "start_time": "2024-10-26T14:12:29.712892",
     "status": "completed"
    },
    "tags": []
   },
   "outputs": [
    {
     "name": "stdout",
     "output_type": "stream",
     "text": [
      "+------+-------+----------+------------+-------------+---------------+-----------------+----------+----------------+--------------+-------------+-----------+\n",
      "|Gender|Married|Dependents|   Education|Self_Employed|ApplicantIncome|CoapplicantIncome|LoanAmount|Loan_Amount_Term|Credit_History|Property_Area|Loan_Status|\n",
      "+------+-------+----------+------------+-------------+---------------+-----------------+----------+----------------+--------------+-------------+-----------+\n",
      "|  Male|     No|         0|    Graduate|           No|           5849|              0.0|       146|             360|             1|        Urban|          Y|\n",
      "|  Male|    Yes|         1|    Graduate|           No|           4583|           1508.0|       128|             360|             1|        Rural|          N|\n",
      "|  Male|    Yes|         0|    Graduate|          Yes|           3000|              0.0|        66|             360|             1|        Urban|          Y|\n",
      "|  Male|    Yes|         0|Not Graduate|           No|           2583|           2358.0|       120|             360|             1|        Urban|          Y|\n",
      "|  Male|     No|         0|    Graduate|           No|           6000|              0.0|       141|             360|             1|        Urban|          Y|\n",
      "+------+-------+----------+------------+-------------+---------------+-----------------+----------+----------------+--------------+-------------+-----------+\n",
      "only showing top 5 rows\n",
      "\n"
     ]
    }
   ],
   "source": [
    "# Proceed with data cleaning and preprocessing steps as per assignment requirements\n",
    "\n",
    "# Drop rows with missing Loan_Status\n",
    "df = df.dropna(subset=[\"Loan_Status\"])\n",
    "\n",
    "# Fill missing values in numerical columns\n",
    "mean_loan_amount = df.agg({\"LoanAmount\": \"mean\"}).collect()[0][0]\n",
    "df = df.fillna({\"LoanAmount\": mean_loan_amount})\n",
    "\n",
    "# Fill missing values in categorical columns\n",
    "df = df.fillna({\"Gender\": \"Unknown\", \"Married\": \"No\", \"Self_Employed\": \"No\"})\n",
    "\n",
    "# Display the first few rows to verify data integrity\n",
    "df.show(5)"
   ]
  },
  {
   "cell_type": "code",
   "execution_count": 5,
   "id": "d847eeaa",
   "metadata": {
    "execution": {
     "iopub.execute_input": "2024-10-26T14:12:31.143540Z",
     "iopub.status.busy": "2024-10-26T14:12:31.143021Z",
     "iopub.status.idle": "2024-10-26T14:12:49.436822Z",
     "shell.execute_reply": "2024-10-26T14:12:49.435346Z"
    },
    "papermill": {
     "duration": 18.317709,
     "end_time": "2024-10-26T14:12:49.439931",
     "exception": false,
     "start_time": "2024-10-26T14:12:31.122222",
     "status": "completed"
    },
    "tags": []
   },
   "outputs": [
    {
     "name": "stderr",
     "output_type": "stream",
     "text": [
      "                                                                                \r"
     ]
    }
   ],
   "source": [
    "from pyspark.ml.feature import StringIndexer, OneHotEncoder, VectorAssembler\n",
    "from pyspark.ml.classification import LogisticRegression, DecisionTreeClassifier\n",
    "from pyspark.ml.evaluation import MulticlassClassificationEvaluator\n",
    "from pyspark.ml import Pipeline\n",
    "\n",
    "# List of categorical columns to encode\n",
    "categorical_cols = [\"Gender\", \"Married\", \"Education\", \"Self_Employed\", \"Property_Area\"]\n",
    "\n",
    "# Index and encode categorical columns\n",
    "indexers = [StringIndexer(inputCol=col, outputCol=col + \"_Index\", handleInvalid=\"keep\") for col in categorical_cols]\n",
    "encoders = [OneHotEncoder(inputCol=col + \"_Index\", outputCol=col + \"_Vec\") for col in categorical_cols]\n",
    "\n",
    "# Label indexer for target variable\n",
    "label_indexer = StringIndexer(inputCol=\"Loan_Status\", outputCol=\"label\", handleInvalid=\"keep\")\n",
    "\n",
    "# Ensure numeric columns have no nulls\n",
    "numeric_cols = [\"ApplicantIncome\", \"CoapplicantIncome\", \"LoanAmount\", \"Loan_Amount_Term\", \"Credit_History\"]\n",
    "for col in numeric_cols:\n",
    "    df = df.fillna({col: 0})  # Fill nulls in numeric columns with 0 or another reasonable default\n",
    "\n",
    "# Assemble feature columns into a single vector\n",
    "feature_cols = numeric_cols + [col + \"_Vec\" for col in categorical_cols]\n",
    "assembler = VectorAssembler(inputCols=feature_cols, outputCol=\"features\", handleInvalid=\"skip\")\n",
    "\n",
    "# Split the dataset into training (70%) and test (30%) sets\n",
    "train_df, test_df = df.randomSplit([0.7, 0.3], seed=1234)\n",
    "\n",
    "# Initialize the two models\n",
    "lr = LogisticRegression(featuresCol=\"features\", labelCol=\"label\")\n",
    "dt = DecisionTreeClassifier(featuresCol=\"features\", labelCol=\"label\")\n",
    "\n",
    "# Create pipelines for each model\n",
    "stages = indexers + encoders + [label_indexer, assembler]\n",
    "pipeline_lr = Pipeline(stages=stages + [lr])\n",
    "pipeline_dt = Pipeline(stages=stages + [dt])\n",
    "\n",
    "# Train each model\n",
    "lr_model = pipeline_lr.fit(train_df)\n",
    "dt_model = pipeline_dt.fit(train_df)\n",
    "\n",
    "# Make predictions on the test set\n",
    "lr_predictions = lr_model.transform(test_df)\n",
    "dt_predictions = dt_model.transform(test_df)\n",
    "\n",
    "# Initialize evaluator for Accuracy, Precision, and Recall\n",
    "evaluator = MulticlassClassificationEvaluator(labelCol=\"label\", predictionCol=\"prediction\")\n",
    "\n",
    "# Evaluate Logistic Regression\n",
    "lr_accuracy = evaluator.evaluate(lr_predictions, {evaluator.metricName: \"accuracy\"})\n",
    "lr_precision = evaluator.evaluate(lr_predictions, {evaluator.metricName: \"weightedPrecision\"})\n",
    "lr_recall = evaluator.evaluate(lr_predictions, {evaluator.metricName: \"weightedRecall\"})\n",
    "\n",
    "# Evaluate Decision Tree\n",
    "dt_accuracy = evaluator.evaluate(dt_predictions, {evaluator.metricName: \"accuracy\"})\n",
    "dt_precision = evaluator.evaluate(dt_predictions, {evaluator.metricName: \"weightedPrecision\"})\n",
    "dt_recall = evaluator.evaluate(dt_predictions, {evaluator.metricName: \"weightedRecall\"})\n",
    "\n"
   ]
  },
  {
   "cell_type": "code",
   "execution_count": 6,
   "id": "678c07a7",
   "metadata": {
    "execution": {
     "iopub.execute_input": "2024-10-26T14:12:49.478991Z",
     "iopub.status.busy": "2024-10-26T14:12:49.478111Z",
     "iopub.status.idle": "2024-10-26T14:12:49.485648Z",
     "shell.execute_reply": "2024-10-26T14:12:49.484517Z"
    },
    "papermill": {
     "duration": 0.030669,
     "end_time": "2024-10-26T14:12:49.489024",
     "exception": false,
     "start_time": "2024-10-26T14:12:49.458355",
     "status": "completed"
    },
    "tags": []
   },
   "outputs": [
    {
     "name": "stdout",
     "output_type": "stream",
     "text": [
      "Logistic Regression - Accuracy: 0.776536312849162 Precision: 0.7689399365377019 Recall: 0.776536312849162\n",
      "Decision Tree - Accuracy: 0.770949720670391 Precision: 0.7618180774211932 Recall: 0.770949720670391\n"
     ]
    }
   ],
   "source": [
    "# Print results\n",
    "print(\"Logistic Regression - Accuracy:\", lr_accuracy, \"Precision:\", lr_precision, \"Recall:\", lr_recall)\n",
    "print(\"Decision Tree - Accuracy:\", dt_accuracy, \"Precision:\", dt_precision, \"Recall:\", dt_recall)\n",
    "\n"
   ]
  },
  {
   "cell_type": "code",
   "execution_count": 7,
   "id": "bb047f0c",
   "metadata": {
    "execution": {
     "iopub.execute_input": "2024-10-26T14:12:49.527195Z",
     "iopub.status.busy": "2024-10-26T14:12:49.526031Z",
     "iopub.status.idle": "2024-10-26T14:12:50.299533Z",
     "shell.execute_reply": "2024-10-26T14:12:50.298231Z"
    },
    "papermill": {
     "duration": 0.796644,
     "end_time": "2024-10-26T14:12:50.303390",
     "exception": false,
     "start_time": "2024-10-26T14:12:49.506746",
     "status": "completed"
    },
    "tags": []
   },
   "outputs": [
    {
     "name": "stdout",
     "output_type": "stream",
     "text": [
      "Confusion Matrix - Logistic Regression\n",
      "+-----+----------+-----+\n",
      "|label|prediction|count|\n",
      "+-----+----------+-----+\n",
      "|  1.0|       1.0|   26|\n",
      "|  0.0|       1.0|   10|\n",
      "|  1.0|       0.0|   30|\n",
      "|  0.0|       0.0|  113|\n",
      "+-----+----------+-----+\n",
      "\n"
     ]
    }
   ],
   "source": [
    "# Confusion Matrix for Logistic Regression\n",
    "print(\"Confusion Matrix - Logistic Regression\")\n",
    "lr_predictions.groupBy(\"label\", \"prediction\").count().show()\n",
    "\n"
   ]
  },
  {
   "cell_type": "code",
   "execution_count": 8,
   "id": "8d6a3d4f",
   "metadata": {
    "execution": {
     "iopub.execute_input": "2024-10-26T14:12:50.343972Z",
     "iopub.status.busy": "2024-10-26T14:12:50.343368Z",
     "iopub.status.idle": "2024-10-26T14:12:50.727772Z",
     "shell.execute_reply": "2024-10-26T14:12:50.726587Z"
    },
    "papermill": {
     "duration": 0.408963,
     "end_time": "2024-10-26T14:12:50.731423",
     "exception": false,
     "start_time": "2024-10-26T14:12:50.322460",
     "status": "completed"
    },
    "tags": []
   },
   "outputs": [
    {
     "name": "stdout",
     "output_type": "stream",
     "text": [
      "Confusion Matrix - Decision Tree\n",
      "+-----+----------+-----+\n",
      "|label|prediction|count|\n",
      "+-----+----------+-----+\n",
      "|  1.0|       1.0|   26|\n",
      "|  0.0|       1.0|   11|\n",
      "|  1.0|       0.0|   30|\n",
      "|  0.0|       0.0|  112|\n",
      "+-----+----------+-----+\n",
      "\n"
     ]
    }
   ],
   "source": [
    "# Confusion Matrix for Decision Tree\n",
    "print(\"Confusion Matrix - Decision Tree\")\n",
    "dt_predictions.groupBy(\"label\", \"prediction\").count().show()"
   ]
  },
  {
   "cell_type": "code",
   "execution_count": 9,
   "id": "bc020f80",
   "metadata": {
    "execution": {
     "iopub.execute_input": "2024-10-26T14:12:50.770685Z",
     "iopub.status.busy": "2024-10-26T14:12:50.769699Z",
     "iopub.status.idle": "2024-10-26T14:12:51.991977Z",
     "shell.execute_reply": "2024-10-26T14:12:51.990788Z"
    },
    "papermill": {
     "duration": 1.245582,
     "end_time": "2024-10-26T14:12:51.995596",
     "exception": false,
     "start_time": "2024-10-26T14:12:50.750014",
     "status": "completed"
    },
    "tags": []
   },
   "outputs": [
    {
     "name": "stderr",
     "output_type": "stream",
     "text": [
      "                                                                                \r"
     ]
    },
    {
     "name": "stdout",
     "output_type": "stream",
     "text": [
      "+---------+-------------------+------------------+\n",
      "|   Metric|Logistic Regression|     Decision Tree|\n",
      "+---------+-------------------+------------------+\n",
      "| Accuracy|  0.776536312849162| 0.770949720670391|\n",
      "|Precision| 0.7689399365377019|0.7618180774211932|\n",
      "|   Recall|  0.776536312849162| 0.770949720670391|\n",
      "+---------+-------------------+------------------+\n",
      "\n"
     ]
    }
   ],
   "source": [
    "# Correctly structure the data for comparison\n",
    "comparison_data = [\n",
    "    (\"Accuracy\", lr_accuracy, dt_accuracy),\n",
    "    (\"Precision\", lr_precision, dt_precision),\n",
    "    (\"Recall\", lr_recall, dt_recall)\n",
    "]\n",
    "\n",
    "# Create Spark DataFrame with the correct structure\n",
    "comparison_df = spark.createDataFrame(comparison_data, [\"Metric\", \"Logistic Regression\", \"Decision Tree\"])\n",
    "\n",
    "# Display comparison table\n",
    "comparison_df.show()"
   ]
  },
  {
   "cell_type": "code",
   "execution_count": 10,
   "id": "1e694409",
   "metadata": {
    "execution": {
     "iopub.execute_input": "2024-10-26T14:12:52.034094Z",
     "iopub.status.busy": "2024-10-26T14:12:52.033574Z",
     "iopub.status.idle": "2024-10-26T14:12:52.424963Z",
     "shell.execute_reply": "2024-10-26T14:12:52.423739Z"
    },
    "papermill": {
     "duration": 0.414358,
     "end_time": "2024-10-26T14:12:52.428354",
     "exception": false,
     "start_time": "2024-10-26T14:12:52.013996",
     "status": "completed"
    },
    "tags": []
   },
   "outputs": [
    {
     "name": "stdout",
     "output_type": "stream",
     "text": [
      "Confusion Matrix - Logistic Regression\n",
      "+-----+----------+-----+\n",
      "|label|prediction|count|\n",
      "+-----+----------+-----+\n",
      "|  1.0|       1.0|   26|\n",
      "|  0.0|       1.0|   10|\n",
      "|  1.0|       0.0|   30|\n",
      "|  0.0|       0.0|  113|\n",
      "+-----+----------+-----+\n",
      "\n"
     ]
    }
   ],
   "source": [
    "# Confusion Matrix for Logistic Regression\n",
    "print(\"Confusion Matrix - Logistic Regression\")\n",
    "lr_predictions.groupBy(\"label\", \"prediction\").count().show()\n",
    "\n"
   ]
  },
  {
   "cell_type": "code",
   "execution_count": 11,
   "id": "2e8cae3f",
   "metadata": {
    "execution": {
     "iopub.execute_input": "2024-10-26T14:12:52.468971Z",
     "iopub.status.busy": "2024-10-26T14:12:52.468434Z",
     "iopub.status.idle": "2024-10-26T14:12:52.813884Z",
     "shell.execute_reply": "2024-10-26T14:12:52.812591Z"
    },
    "papermill": {
     "duration": 0.368614,
     "end_time": "2024-10-26T14:12:52.817047",
     "exception": false,
     "start_time": "2024-10-26T14:12:52.448433",
     "status": "completed"
    },
    "tags": []
   },
   "outputs": [
    {
     "name": "stdout",
     "output_type": "stream",
     "text": [
      "Confusion Matrix - Decision Tree\n",
      "+-----+----------+-----+\n",
      "|label|prediction|count|\n",
      "+-----+----------+-----+\n",
      "|  1.0|       1.0|   26|\n",
      "|  0.0|       1.0|   11|\n",
      "|  1.0|       0.0|   30|\n",
      "|  0.0|       0.0|  112|\n",
      "+-----+----------+-----+\n",
      "\n"
     ]
    }
   ],
   "source": [
    "# Confusion Matrix for Decision Tree\n",
    "print(\"Confusion Matrix - Decision Tree\")\n",
    "dt_predictions.groupBy(\"label\", \"prediction\").count().show()"
   ]
  },
  {
   "cell_type": "code",
   "execution_count": 12,
   "id": "051296c5",
   "metadata": {
    "execution": {
     "iopub.execute_input": "2024-10-26T14:12:52.855851Z",
     "iopub.status.busy": "2024-10-26T14:12:52.855393Z",
     "iopub.status.idle": "2024-10-26T14:12:54.272601Z",
     "shell.execute_reply": "2024-10-26T14:12:54.271393Z"
    },
    "papermill": {
     "duration": 1.439345,
     "end_time": "2024-10-26T14:12:54.275322",
     "exception": false,
     "start_time": "2024-10-26T14:12:52.835977",
     "status": "completed"
    },
    "tags": []
   },
   "outputs": [],
   "source": [
    "import matplotlib.pyplot as plt\n",
    "import seaborn as sns\n",
    "from pyspark.ml.evaluation import MulticlassClassificationEvaluator\n",
    "from pyspark.sql import DataFrame\n",
    "\n",
    "# Function to plot confusion matrix as a heatmap\n",
    "def plot_confusion_matrix(predictions: DataFrame, model_name: str):\n",
    "    # Group by label and prediction to create the confusion matrix\n",
    "    confusion_df = (\n",
    "        predictions.groupBy(\"label\", \"prediction\")\n",
    "        .count()\n",
    "        .toPandas()\n",
    "        .pivot(index=\"label\", columns=\"prediction\", values=\"count\")\n",
    "        .fillna(0)\n",
    "    )\n",
    "    \n",
    "    # Plot the heatmap\n",
    "    plt.figure(figsize=(8, 6))\n",
    "    sns.heatmap(confusion_df, annot=True, fmt=\"g\", cmap=\"Blues\", cbar=False)\n",
    "    plt.title(f\"Confusion Matrix - {model_name}\")\n",
    "    plt.xlabel(\"Predicted Label\")\n",
    "    plt.ylabel(\"True Label\")\n",
    "    plt.show()\n",
    "\n",
    "\n",
    "\n"
   ]
  },
  {
   "cell_type": "code",
   "execution_count": 13,
   "id": "384dbae6",
   "metadata": {
    "execution": {
     "iopub.execute_input": "2024-10-26T14:12:54.301506Z",
     "iopub.status.busy": "2024-10-26T14:12:54.300970Z",
     "iopub.status.idle": "2024-10-26T14:12:55.062862Z",
     "shell.execute_reply": "2024-10-26T14:12:55.061547Z"
    },
    "papermill": {
     "duration": 0.778929,
     "end_time": "2024-10-26T14:12:55.066535",
     "exception": false,
     "start_time": "2024-10-26T14:12:54.287606",
     "status": "completed"
    },
    "tags": []
   },
   "outputs": [
    {
     "data": {
      "image/png": "[encoded data removed]",
      "text/plain": [
       "<Figure size 800x600 with 1 Axes>"
      ]
     },
     "metadata": {},
     "output_type": "display_data"
    }
   ],
   "source": [
    "# Logistic Regression Confusion Matrix\n",
    "plot_confusion_matrix(lr_predictions, \"Logistic Regression\")"
   ]
  },
  {
   "cell_type": "code",
   "execution_count": 14,
   "id": "810ccd70",
   "metadata": {
    "execution": {
     "iopub.execute_input": "2024-10-26T14:12:55.099495Z",
     "iopub.status.busy": "2024-10-26T14:12:55.098611Z",
     "iopub.status.idle": "2024-10-26T14:12:55.580942Z",
     "shell.execute_reply": "2024-10-26T14:12:55.579682Z"
    },
    "papermill": {
     "duration": 0.500342,
     "end_time": "2024-10-26T14:12:55.584449",
     "exception": false,
     "start_time": "2024-10-26T14:12:55.084107",
     "status": "completed"
    },
    "tags": []
   },
   "outputs": [
    {
     "data": {
      "image/png": "[encoded data removed]",
      "text/plain": [
       "<Figure size 800x600 with 1 Axes>"
      ]
     },
     "metadata": {},
     "output_type": "display_data"
    }
   ],
   "source": [
    "# Decision Tree Confusion Matrix\n",
    "plot_confusion_matrix(dt_predictions, \"Decision Tree\")"
   ]
  }
 ],
 "metadata": {
  "kaggle": {
   "accelerator": "none",
   "dataSources": [
    {
     "datasetId": 5952770,
     "sourceId": 9727953,
     "sourceType": "datasetVersion"
    }
   ],
   "dockerImageVersionId": 30786,
   "isGpuEnabled": false,
   "isInternetEnabled": true,
   "language": "python",
   "sourceType": "notebook"
  },
  "kernelspec": {
   "display_name": "Python 3",
   "language": "python",
   "name": "python3"
  },
  "language_info": {
   "codemirror_mode": {
    "name": "ipython",
    "version": 3
   },
   "file_extension": ".py",
   "mimetype": "text/x-python",
   "name": "python",
   "nbconvert_exporter": "python",
   "pygments_lexer": "ipython3",
   "version": "3.10.14"
  },
  "papermill": {
   "default_parameters": {},
   "duration": 91.849936,
   "end_time": "2024-10-26T14:12:58.226090",
   "environment_variables": {},
   "exception": null,
   "input_path": "__notebook__.ipynb",
   "output_path": "__notebook__.ipynb",
   "parameters": {},
   "start_time": "2024-10-26T14:11:26.376154",
   "version": "2.6.0"
  }
 },
 "nbformat": 4,
 "nbformat_minor": 5
}
